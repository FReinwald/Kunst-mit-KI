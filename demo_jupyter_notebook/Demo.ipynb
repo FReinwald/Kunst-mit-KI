{
 "cells": [
  {
   "cell_type": "code",
   "execution_count": null,
   "metadata": {},
   "outputs": [],
   "source": [
    "import matplotlib.pyplot as plt\n",
    "import matplotlib.image as mpimg\n",
    "import cv2\n",
    "import time\n",
    "\n",
    "import torch"
   ]
  },
  {
   "cell_type": "markdown",
   "metadata": {},
   "source": [
    "### Take a photo using webcam"
   ]
  },
  {
   "cell_type": "code",
   "execution_count": null,
   "metadata": {},
   "outputs": [],
   "source": [
    "camera = cv2.VideoCapture(0)\n",
    "time.sleep(0.1)     # time to load the camera\n",
    "framesize = 304     # according to the models input size\n",
    "\n",
    "_, image = camera.read()\n",
    "height, width, _ = image.shape\n",
    "crop_pixel = int((width - height)/2) # crop square\n",
    "cropped_frame = image[:, crop_pixel:width-crop_pixel]\n",
    "resized_frame = cv2.resize(cropped_frame, (framesize, framesize)) \n",
    "\n",
    "cv2.imwrite('webcam_image/webcam.png', resized_frame)\n",
    "del(camera)\n",
    "\n",
    "plt.imshow(cv2.cvtColor(resized_frame, cv2.COLOR_BGR2RGB))\n",
    "plt.title('Captured image')\n",
    "plt.axis('off')\n",
    "plt.show()"
   ]
  },
  {
   "cell_type": "markdown",
   "metadata": {},
   "source": [
    "### Forward pass (pseudo code)"
   ]
  },
  {
   "cell_type": "code",
   "execution_count": null,
   "metadata": {},
   "outputs": [],
   "source": [
    "#import network_architecture.py\n",
    "\n",
    "#state_dict = torch.load('saved_model/latest_net_G.pth')\n",
    "#model = network_architecture.network()   # Load from external python file\n",
    "#model.load_state_dict(state_dict)\n",
    "\n",
    "#cartoon_img = model('webcam_image/webcam')\n",
    "#cv2.imwrite('cartoon_image/webcam_cartoon_image.png', cartoon_img)"
   ]
  },
  {
   "cell_type": "markdown",
   "metadata": {},
   "source": [
    "### Show image"
   ]
  },
  {
   "cell_type": "code",
   "execution_count": null,
   "metadata": {},
   "outputs": [],
   "source": [
    "cartoon_image = cv2.imread('cartoon_image/webcam_cartoon_image.png')\n",
    "plt.axis('off')\n",
    "plt.title('Generated cartoon image')\n",
    "plt.imshow(cv2.cvtColor(cartoon_image, cv2.COLOR_BGR2RGB))\n",
    "plt.show()"
   ]
  },
  {
   "cell_type": "code",
   "execution_count": null,
   "metadata": {},
   "outputs": [],
   "source": []
  }
 ],
 "metadata": {
  "kernelspec": {
   "display_name": "Python 3",
   "language": "python",
   "name": "python3"
  },
  "language_info": {
   "codemirror_mode": {
    "name": "ipython",
    "version": 3
   },
   "file_extension": ".py",
   "mimetype": "text/x-python",
   "name": "python",
   "nbconvert_exporter": "python",
   "pygments_lexer": "ipython3",
   "version": "3.7.3"
  }
 },
 "nbformat": 4,
 "nbformat_minor": 2
}
