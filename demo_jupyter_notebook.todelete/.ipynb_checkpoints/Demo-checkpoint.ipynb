{
 "cells": [
  {
   "cell_type": "code",
   "execution_count": 1,
   "metadata": {},
   "outputs": [
    {
     "ename": "ModuleNotFoundError",
     "evalue": "No module named 'options'",
     "output_type": "error",
     "traceback": [
      "\u001b[0;31m---------------------------------------------------------------------------\u001b[0m",
      "\u001b[0;31mModuleNotFoundError\u001b[0m                       Traceback (most recent call last)",
      "\u001b[0;32m<ipython-input-1-1bd0b517f160>\u001b[0m in \u001b[0;36m<module>\u001b[0;34m\u001b[0m\n\u001b[1;32m      8\u001b[0m \u001b[0;34m\u001b[0m\u001b[0m\n\u001b[1;32m      9\u001b[0m \u001b[0;32mimport\u001b[0m \u001b[0mos\u001b[0m\u001b[0;34m\u001b[0m\u001b[0;34m\u001b[0m\u001b[0m\n\u001b[0;32m---> 10\u001b[0;31m \u001b[0;32mfrom\u001b[0m \u001b[0moptions\u001b[0m\u001b[0;34m.\u001b[0m\u001b[0mtest_options\u001b[0m \u001b[0;32mimport\u001b[0m \u001b[0mTestOptions\u001b[0m\u001b[0;34m\u001b[0m\u001b[0;34m\u001b[0m\u001b[0m\n\u001b[0m\u001b[1;32m     11\u001b[0m \u001b[0;32mfrom\u001b[0m \u001b[0moptions\u001b[0m\u001b[0;34m.\u001b[0m\u001b[0mtrain_options\u001b[0m \u001b[0;32mimport\u001b[0m \u001b[0mTrainOptions\u001b[0m\u001b[0;34m\u001b[0m\u001b[0;34m\u001b[0m\u001b[0m\n\u001b[1;32m     12\u001b[0m \u001b[0;32mfrom\u001b[0m \u001b[0mdata\u001b[0m \u001b[0;32mimport\u001b[0m \u001b[0mcreate_dataset\u001b[0m\u001b[0;34m\u001b[0m\u001b[0;34m\u001b[0m\u001b[0m\n",
      "\u001b[0;31mModuleNotFoundError\u001b[0m: No module named 'options'"
     ]
    }
   ],
   "source": [
    "import matplotlib.pyplot as plt\n",
    "import matplotlib.image as mpimg\n",
    "import time\n",
    "\n",
    "import numpy as np\n",
    "import cv2\n",
    "from PIL import Image\n",
    "\n",
    "import os\n",
    "from options.test_options import TestOptions\n",
    "from options.train_options import TrainOptions\n",
    "from data import create_dataset\n",
    "from models import create_model\n",
    "from util.visualizer import save_images\n",
    "from util import html\n",
    "import torch\n",
    "import torchvision\n",
    "import torchvision.transforms as transforms"
   ]
  },
  {
   "cell_type": "code",
   "execution_count": null,
   "metadata": {},
   "outputs": [],
   "source": [
    "## TODO: put these helper function to an own file\n",
    "\n",
    "def to_image(tensor, nrow=8, padding=2,\n",
    "               normalize=False, range=None, scale_each=False, pad_value=0):\n",
    "    \"\"\"from torchvision utils: converts a given Tensor into an image file.\n",
    "\n",
    "    Args:\n",
    "        tensor (Tensor or list): Image to be saved. If given a mini-batch tensor,\n",
    "            saves the tensor as a grid of images by calling ``make_grid``.\n",
    "        **kwargs: Other arguments are documented in ``make_grid``.\n",
    "    \"\"\"\n",
    "    grid = torchvision.utils.make_grid(tensor, nrow=nrow, padding=padding, pad_value=pad_value,\n",
    "                     normalize=normalize, range=range, scale_each=scale_each)\n",
    "    # Add 0.5 after unnormalizing to [0, 255] to round to nearest integer\n",
    "    ndarr = grid.mul_(255).add_(0.5).clamp_(0, 255).permute(1, 2, 0).to('cpu', torch.uint8).numpy()\n",
    "    im = Image.fromarray(ndarr)\n",
    "    return im\n",
    "\n",
    "def concatenate(images):\n",
    "    widths, heights = zip(*(i.size for i in images))\n",
    "    total_width = sum(widths)\n",
    "    max_height = max(heights)\n",
    "    result = Image.new('RGB', (total_width, max_height))\n",
    "    x_offset = 0\n",
    "    for im in images:\n",
    "        result.paste(im, (x_offset,0))\n",
    "        x_offset += im.size[0]\n",
    "    return result"
   ]
  },
  {
   "cell_type": "markdown",
   "metadata": {},
   "source": [
    "### Setup the webcam and the latest model"
   ]
  },
  {
   "cell_type": "code",
   "execution_count": null,
   "metadata": {},
   "outputs": [],
   "source": [
    "cap = cv2.VideoCapture(0)\n",
    "cap.set(cv2.CAP_PROP_BUFFERSIZE, 1);\n",
    "framesize = 600\n",
    "\n",
    "# setup cyclegan model using the training options:\n",
    "opt = TrainOptions().parse()\n",
    "# hard-code some parameters for demo\n",
    "opt.num_threads = 1\n",
    "opt.batch_size = 1\n",
    "opt.serial_batches = True\n",
    "opt.no_flip = True\n",
    "opt.display_id = -1\n",
    "opt.phase = 'test'\n",
    "opt.epoch = 'latest'\n",
    "opt.checkpoints_dir = '../checkpoints'\n",
    "\n",
    "# hack a bit to get it up and running:\n",
    "opt.isTrain = False\n",
    "model = create_model(opt)\n",
    "model.isTrain = False\n",
    "model.setup(opt)\n",
    "\n",
    "# set the brightness in order to enhance captures in a \n",
    "# dark environment (default 0.5)\n",
    "brightness = 0.3 # lower enhances darker environments\n",
    "\n",
    "# use the hflip for \"demirrored\" webcams\n",
    "transform = transforms.Compose([torchvision.transforms.functional.hflip,\n",
    "                                transforms.CenterCrop(256),\n",
    "                                transforms.ToTensor(),\n",
    "                                transforms.Normalize((brightness, brightness, brightness),\n",
    "                                                (0.5, 0.5, 0.5))])\n",
    "\n",
    "\n",
    "\n",
    "#camera = cv2.VideoCapture(0)\n",
    "#time.sleep(0.1)     # time to load the camera\n",
    "#framesize = 304     # according to the models input size\n",
    "\n",
    "#_, image = camera.read()\n",
    "#height, width, _ = image.shape\n",
    "#crop_pixel = int((width - height)/2) # crop square\n",
    "#cropped_frame = image[:, crop_pixel:width-crop_pixel]\n",
    "#resized_frame = cv2.resize(cropped_frame, (framesize, framesize)) \n",
    "\n",
    "#cv2.imwrite('webcam_image/webcam.png', resized_frame)\n",
    "#del(camera)\n",
    "\n",
    "#plt.imshow(cv2.cvtColor(resized_frame, cv2.COLOR_BGR2RGB))\n",
    "#plt.title('Captured image')\n",
    "#plt.axis('off')\n",
    "#plt.show()"
   ]
  },
  {
   "cell_type": "markdown",
   "metadata": {},
   "source": [
    "### Convert faces to cartoons (forward pass through the network)"
   ]
  },
  {
   "cell_type": "code",
   "execution_count": null,
   "metadata": {},
   "outputs": [],
   "source": [
    "while(True):\n",
    "    # drop capture buffer (the easy way)\n",
    "    ret, frame = cap.read()\n",
    "    ret, frame = cap.read()\n",
    "    ret, frame = cap.read()\n",
    "\n",
    "    # scale the image and convert to RGB\n",
    "    hight, width, depth = frame.shape\n",
    "    crop_pixel = int((width - hight)/2) # crop square\n",
    "    cropped_frame = frame[:, crop_pixel:width-crop_pixel]\n",
    "    resized_frame = cv2.resize(cropped_frame, (framesize, framesize))\n",
    "    cvframe = cv2.cvtColor(resized_frame, cv2.COLOR_BGR2RGB) \n",
    "    \n",
    "    # transform the capture to an PIL image\n",
    "    pil_img = Image.fromarray(cvframe)\n",
    "    img = transform(pil_img)\n",
    "    img = img.view(1, 3, 256, 256)\n",
    "    img_A = to_image(img[0, :, :, :])\n",
    "    img_B = model.gen_B(img)\n",
    "    #torchvision.utils.save_image(img_B[0, :, :, :], 'comic.png')\n",
    "    img_B = to_image(img_B[0, :, :, :])\n",
    "    img_AB = concatenate([img_A, img_B])\n",
    "    img_AB.save('comic.jpg')\n",
    "    \n",
    "    plt.axis('off')\n",
    "    plt.title('Generated cartoon image')\n",
    "    plt.imshow(cv2.cvtColor(cartoon_image, cv2.COLOR_BGR2RGB))\n",
    "    plt.show()\n",
    "    \n",
    "    print('comic converted')\n",
    "\n",
    "    #print(frame.shape, \" \", cropped_frame.shape, \" \", resized_frame.shape)\n",
    "\n",
    "    # Display the resulting frame\n",
    "    #cv2.imshow('frame',resized_frame)\n",
    "    #if cv2.waitKey(10) == 27: \n",
    "\n",
    "    #break  # esc to quit\n",
    "\n",
    "# When everything done, release the capture\n",
    "cap.release()\n",
    "cv2.destroyAllWindows()"
   ]
  },
  {
   "cell_type": "markdown",
   "metadata": {},
   "source": [
    "### Forward pass (pseudo code)"
   ]
  },
  {
   "cell_type": "code",
   "execution_count": null,
   "metadata": {},
   "outputs": [],
   "source": [
    "#import network_architecture.py\n",
    "\n",
    "#state_dict = torch.load('saved_model/latest_net_G.pth')\n",
    "#model = network_architecture.network()   # Load from external python file\n",
    "#model.load_state_dict(state_dict)\n",
    "\n",
    "#cartoon_img = model('webcam_image/webcam')\n",
    "#cv2.imwrite('cartoon_image/webcam_cartoon_image.png', cartoon_img)"
   ]
  },
  {
   "cell_type": "markdown",
   "metadata": {},
   "source": [
    "### Show image"
   ]
  },
  {
   "cell_type": "code",
   "execution_count": null,
   "metadata": {},
   "outputs": [],
   "source": [
    "cartoon_image = cv2.imread('cartoon_image/webcam_cartoon_image.png')\n",
    "plt.axis('off')\n",
    "plt.title('Generated cartoon image')\n",
    "plt.imshow(cv2.cvtColor(cartoon_image, cv2.COLOR_BGR2RGB))\n",
    "plt.show()"
   ]
  },
  {
   "cell_type": "code",
   "execution_count": null,
   "metadata": {},
   "outputs": [],
   "source": []
  }
 ],
 "metadata": {
  "kernelspec": {
   "display_name": "Python 3",
   "language": "python",
   "name": "python3"
  },
  "language_info": {
   "codemirror_mode": {
    "name": "ipython",
    "version": 3
   },
   "file_extension": ".py",
   "mimetype": "text/x-python",
   "name": "python",
   "nbconvert_exporter": "python",
   "pygments_lexer": "ipython3",
   "version": "3.7.1"
  }
 },
 "nbformat": 4,
 "nbformat_minor": 2
}
